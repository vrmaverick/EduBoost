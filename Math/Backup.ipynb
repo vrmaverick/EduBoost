{
 "cells": [
  {
   "cell_type": "code",
   "execution_count": 2,
   "metadata": {},
   "outputs": [
    {
     "name": "stdout",
     "output_type": "stream",
     "text": [
      "Parsed 25 strokes\n",
      "Label: f(x)=\\frac{1}{e}\\cdot\\sum_{n=0}^{\\infty}\\frac{n^{x}}{n!}\n"
     ]
    }
   ],
   "source": [
    "import xml.etree.ElementTree as ET\n",
    "import numpy as np\n",
    "\n",
    "def parse_inkml(file_path):\n",
    "    \"\"\"\n",
    "    Parse an InkML file and return:\n",
    "    - strokes: a list of numpy arrays (each is a stroke of shape [n_points, 2])\n",
    "    - label: the LaTeX label (ground truth) if available\n",
    "    \"\"\"\n",
    "    tree = ET.parse(file_path)\n",
    "    root = tree.getroot()\n",
    "    \n",
    "    # Handling namespaces (InkML files typically use a default InkML namespace)\n",
    "    ns = {'ink': 'http://www.w3.org/2003/InkML'}\n",
    "    \n",
    "    # Get annotation (if present)\n",
    "    label = None\n",
    "    for annotation in root.findall('ink:annotation', ns):\n",
    "        # Choose normalizedLabel if available; fallback to label\n",
    "        if annotation.get('type') == 'normalizedLabel':\n",
    "            label = annotation.text.strip()\n",
    "            break\n",
    "        elif annotation.get('type') == 'label':\n",
    "            label = annotation.text.strip()\n",
    "    \n",
    "    strokes = []\n",
    "    # Each <trace> element contains a stroke\n",
    "    for trace in root.findall('ink:trace', ns):\n",
    "        trace_data = trace.text.strip()\n",
    "        points = []\n",
    "        # InkML usually separates points by commas and coordinates by space\n",
    "        for point_str in trace_data.split(','):\n",
    "            # Remove extra spaces and split by whitespace\n",
    "            coords = point_str.strip().split()\n",
    "            if len(coords) >= 2:\n",
    "                x, y = float(coords[0]), float(coords[1])\n",
    "                points.append([x, y])\n",
    "        if points:\n",
    "            strokes.append(np.array(points))\n",
    "    \n",
    "    return strokes, label\n",
    "\n",
    "# Example usage:\n",
    "strokes, label = parse_inkml('./data/mathwriting-2024/mathwriting-2024/train/51b364eb9ba2185a.inkml')\n",
    "print(\"Parsed {} strokes\".format(len(strokes)))\n",
    "print(\"Label:\", label)\n"
   ]
  },
  {
   "cell_type": "code",
   "execution_count": 3,
   "metadata": {},
   "outputs": [],
   "source": [
    "def preprocess_strokes(strokes, max_length=100):\n",
    "    \"\"\"\n",
    "    Normalize and pad strokes to ensure a consistent input shape.\n",
    "    - Normalizes (X, Y) coordinates.\n",
    "    - Pads/truncates strokes to max_length.\n",
    "    \"\"\"\n",
    "    all_points = np.concatenate(strokes, axis=0) if strokes else np.array([[0, 0]])\n",
    "    \n",
    "    # Normalize X and Y to [0,1] range\n",
    "    min_vals = np.min(all_points, axis=0)\n",
    "    max_vals = np.max(all_points, axis=0)\n",
    "    norm_strokes = [(s - min_vals) / (max_vals - min_vals + 1e-5) for s in strokes]\n",
    "    \n",
    "    # Flatten strokes and pad/truncate to fixed size\n",
    "    flat_strokes = np.concatenate(norm_strokes, axis=0)[:max_length]\n",
    "    pad_length = max_length - len(flat_strokes)\n",
    "    padded_strokes = np.pad(flat_strokes, ((0, pad_length), (0, 0)), mode='constant')\n",
    "    \n",
    "    return padded_strokes\n"
   ]
  },
  {
   "cell_type": "code",
   "execution_count": 5,
   "metadata": {},
   "outputs": [],
   "source": [
    "import os\n",
    "def load_dataset(inkml_dirs, num_files=1000, max_length=100):\n",
    "    samples = []\n",
    "    labels = []\n",
    "    charset = set()\n",
    "\n",
    "    for root_dir in inkml_dirs:\n",
    "        if num_files == 'None' :\n",
    "            files = [f for f in os.listdir(root_dir) if f.endswith('.inkml')]\n",
    "        else:\n",
    "            files = [f for f in os.listdir(root_dir) if f.endswith('.inkml')][:num_files]  # Limit files\n",
    "            \n",
    "        for file in files:\n",
    "            path = os.path.join(root_dir, file)\n",
    "            strokes, label = parse_inkml(path)\n",
    "            \n",
    "            if strokes and label:\n",
    "                processed_strokes = preprocess_strokes(strokes, max_length)\n",
    "                samples.append(processed_strokes)\n",
    "                labels.append(label)\n",
    "                charset.update(label)\n",
    "\n",
    "    # Create character mappings\n",
    "    char2idx = {c: i + 1 for i, c in enumerate(sorted(charset))}\n",
    "    char2idx['<pad>'] = 0\n",
    "    idx2char = {v: k for k, v in char2idx.items()}\n",
    "\n",
    "    return samples, labels, char2idx, idx2char"
   ]
  },
  {
   "cell_type": "code",
   "execution_count": 7,
   "metadata": {},
   "outputs": [
    {
     "name": "stdout",
     "output_type": "stream",
     "text": [
      "Loaded 49984 samples\n"
     ]
    }
   ],
   "source": [
    "num_files = 49984  # Get value from slider\n",
    "samples, labels, char2idx, idx2char = load_dataset(['./data/mathwriting-2024/mathwriting-2024/train'], num_files=num_files)\n",
    "print(f\"Loaded {len(samples)} samples\")"
   ]
  },
  {
   "cell_type": "code",
   "execution_count": 8,
   "metadata": {},
   "outputs": [
    {
     "data": {
      "text/plain": [
       "{' ': 1,\n",
       " '!': 2,\n",
       " '#': 3,\n",
       " '%': 4,\n",
       " '&': 5,\n",
       " '(': 6,\n",
       " ')': 7,\n",
       " '*': 8,\n",
       " '+': 9,\n",
       " ',': 10,\n",
       " '-': 11,\n",
       " '.': 12,\n",
       " '/': 13,\n",
       " '0': 14,\n",
       " '1': 15,\n",
       " '2': 16,\n",
       " '3': 17,\n",
       " '4': 18,\n",
       " '5': 19,\n",
       " '6': 20,\n",
       " '7': 21,\n",
       " '8': 22,\n",
       " '9': 23,\n",
       " ':': 24,\n",
       " ';': 25,\n",
       " '<': 26,\n",
       " '=': 27,\n",
       " '>': 28,\n",
       " '?': 29,\n",
       " 'A': 30,\n",
       " 'B': 31,\n",
       " 'C': 32,\n",
       " 'D': 33,\n",
       " 'E': 34,\n",
       " 'F': 35,\n",
       " 'G': 36,\n",
       " 'H': 37,\n",
       " 'I': 38,\n",
       " 'J': 39,\n",
       " 'K': 40,\n",
       " 'L': 41,\n",
       " 'M': 42,\n",
       " 'N': 43,\n",
       " 'O': 44,\n",
       " 'P': 45,\n",
       " 'Q': 46,\n",
       " 'R': 47,\n",
       " 'S': 48,\n",
       " 'T': 49,\n",
       " 'U': 50,\n",
       " 'V': 51,\n",
       " 'W': 52,\n",
       " 'X': 53,\n",
       " 'Y': 54,\n",
       " 'Z': 55,\n",
       " '[': 56,\n",
       " '\\\\': 57,\n",
       " ']': 58,\n",
       " '^': 59,\n",
       " '_': 60,\n",
       " 'a': 61,\n",
       " 'b': 62,\n",
       " 'c': 63,\n",
       " 'd': 64,\n",
       " 'e': 65,\n",
       " 'f': 66,\n",
       " 'g': 67,\n",
       " 'h': 68,\n",
       " 'i': 69,\n",
       " 'j': 70,\n",
       " 'k': 71,\n",
       " 'l': 72,\n",
       " 'm': 73,\n",
       " 'n': 74,\n",
       " 'o': 75,\n",
       " 'p': 76,\n",
       " 'q': 77,\n",
       " 'r': 78,\n",
       " 's': 79,\n",
       " 't': 80,\n",
       " 'u': 81,\n",
       " 'v': 82,\n",
       " 'w': 83,\n",
       " 'x': 84,\n",
       " 'y': 85,\n",
       " 'z': 86,\n",
       " '{': 87,\n",
       " '|': 88,\n",
       " '}': 89,\n",
       " '<pad>': 0}"
      ]
     },
     "execution_count": 8,
     "metadata": {},
     "output_type": "execute_result"
    }
   ],
   "source": [
    "char2idx"
   ]
  },
  {
   "cell_type": "code",
   "execution_count": 9,
   "metadata": {},
   "outputs": [
    {
     "name": "stdout",
     "output_type": "stream",
     "text": [
      "Loaded 9984 samples\n"
     ]
    }
   ],
   "source": [
    "num_test_files = 9984   # Get value from slider\n",
    "test_samples, test_labels, test_char2idx, test_idx2char = load_dataset(['./data/mathwriting-2024/mathwriting-2024/valid'], num_files=num_test_files)\n",
    "print(f\"Loaded {len(test_samples)} samples\")"
   ]
  },
  {
   "cell_type": "code",
   "execution_count": 11,
   "metadata": {},
   "outputs": [],
   "source": [
    "# Convert strokes (samples) into a padded sequence format\n",
    "import tensorflow as tf\n",
    "\n",
    "def preprocess(samples, labels, char2idx):\n",
    "    # max_seq_length = max(len(s) for s in samples)\n",
    "    target_seq_length = 110  # Find the longest stroke sequence\n",
    "    padded_samples = np.array([\n",
    "        np.pad(s, ((0, max(0, target_seq_length - len(s))), (0, 0)), mode='constant')[:target_seq_length]\n",
    "        for s in samples\n",
    "    ])\n",
    "    \n",
    "    # Ensure padded_samples has shape (batch_size, 110, features)\n",
    "    padded_samples = np.pad(padded_samples, ((0, 0), (0, 0), (0, 1)), mode='constant')\n",
    "\n",
    "    # Convert labels into numerical format using char2idx\n",
    "    numerical_labels = [[char2idx[c] for c in label] for label in labels]\n",
    "\n",
    "    # Pad label sequences\n",
    "    max_label_length = max(\n",
    "    max(len(label) for label in labels),\n",
    "    max(len(label) for label in test_labels))\n",
    "    # Pad label sequences\n",
    "    padded_labels = tf.keras.preprocessing.sequence.pad_sequences(\n",
    "        numerical_labels, maxlen=max_label_length, padding='post'\n",
    "    )\n",
    "    # padded_labels = tf.keras.preprocessing.sequence.pad_sequences(numerical_labels, padding='post')\n",
    "\n",
    "    # Convert to TensorFlow datasets for efficient loading\n",
    "    # BATCH_SIZE = 32           \n",
    "\n",
    "    # train_dataset = tf.data.Dataset.from_tensor_slices((padded_samples, padded_labels))\n",
    "    # train_dataset = train_dataset.shuffle(10).batch(BATCH_SIZE).prefetch(tf.data.AUTOTUNE)\n",
    "    # return train_dataset\n",
    "    return padded_samples, padded_labels\n"
   ]
  },
  {
   "cell_type": "code",
   "execution_count": 26,
   "metadata": {},
   "outputs": [],
   "source": [
    "train_X, train_y = preprocess(samples, labels, char2idx)\n",
    "val_X, val_y = preprocess(test_samples, test_labels, test_char2idx)\n",
    "# train_data = preprocess(samples, labels, char2idx)\n",
    "# val_data = preprocess(test_samples, test_labels, test_char2idx)\n"
   ]
  },
  {
   "cell_type": "code",
   "execution_count": 27,
   "metadata": {},
   "outputs": [
    {
     "data": {
      "text/plain": [
       "(9984, 110, 3)"
      ]
     },
     "execution_count": 27,
     "metadata": {},
     "output_type": "execute_result"
    }
   ],
   "source": [
    "val_X.shape"
   ]
  },
  {
   "cell_type": "code",
   "execution_count": 28,
   "metadata": {},
   "outputs": [
    {
     "data": {
      "text/plain": [
       "(9984, 128)"
      ]
     },
     "execution_count": 28,
     "metadata": {},
     "output_type": "execute_result"
    }
   ],
   "source": [
    "val_y.shape"
   ]
  },
  {
   "cell_type": "code",
   "execution_count": 29,
   "metadata": {},
   "outputs": [],
   "source": [
    "# print(model.input_shape)\n"
   ]
  },
  {
   "cell_type": "code",
   "execution_count": 30,
   "metadata": {},
   "outputs": [],
   "source": [
    "start_token = 0  # Define the start token (adjust based on your dataset)\n",
    "\n",
    "# Shift train_y one step to the right and add start_token at the beginning\n",
    "train_decoder_inputs = np.pad(train_y[:, :-1], ((0, 0), (1, 0)), constant_values=start_token)\n",
    "val_decoder_inputs = np.pad(val_y[:, :-1], ((0, 0), (1, 0)), constant_values=start_token)\n"
   ]
  },
  {
   "cell_type": "code",
   "execution_count": 31,
   "metadata": {},
   "outputs": [
    {
     "name": "stdout",
     "output_type": "stream",
     "text": [
      "train_X shape: (49984, 110, 3)\n",
      "train_decoder_inputs shape: (49984, 188)\n",
      "train_y shape: (49984, 188)\n"
     ]
    }
   ],
   "source": [
    "print(\"train_X shape:\", train_X.shape)  # (batch_size, time_steps, features)\n",
    "print(\"train_decoder_inputs shape:\", train_decoder_inputs.shape)  # (batch_size, max_length)\n",
    "print(\"train_y shape:\", train_y.shape)  # (batch_size, max_length)\n"
   ]
  },
  {
   "cell_type": "code",
   "execution_count": 33,
   "metadata": {},
   "outputs": [],
   "source": [
    "MAX_TIME_STEPS = 128  # Match encoder's time steps\n",
    "train_decoder_inputs = train_decoder_inputs[:, :MAX_TIME_STEPS]\n",
    "train_y = train_y[:, :MAX_TIME_STEPS]\n",
    "val_decoder_inputs = val_decoder_inputs[:, :MAX_TIME_STEPS]\n",
    "val_y = val_y[:, :MAX_TIME_STEPS]\n"
   ]
  },
  {
   "cell_type": "code",
   "execution_count": 34,
   "metadata": {},
   "outputs": [
    {
     "name": "stdout",
     "output_type": "stream",
     "text": [
      "train_X shape: (49984, 110, 3)\n",
      "train_decoder_inputs shape: (49984, 128)\n",
      "train_y shape: (49984, 128)\n",
      "val_X shape: (9984, 110, 3)\n",
      "val_decoder_inputs shape: (9984, 128)\n",
      "val_y shape: (9984, 128)\n"
     ]
    }
   ],
   "source": [
    "print(\"train_X shape:\", train_X.shape)  # (batch_size, time_steps, features)\n",
    "print(\"train_decoder_inputs shape:\", train_decoder_inputs.shape)  # (batch_size, max_length)\n",
    "print(\"train_y shape:\", train_y.shape)  # (batch_size, max_length)\n",
    "print(f\"val_X shape: {val_X.shape}\")\n",
    "print(f\"val_decoder_inputs shape: {val_decoder_inputs.shape}\")\n",
    "print(f\"val_y shape: {val_y.shape}\")\n"
   ]
  },
  {
   "cell_type": "markdown",
   "metadata": {},
   "source": [
    "# Experiment 1 baseline model"
   ]
  },
  {
   "cell_type": "code",
   "execution_count": 48,
   "metadata": {},
   "outputs": [],
   "source": [
    "import tensorflow as tf\n",
    "\n",
    "# Configuration\n",
    "vocab_size = 100  # Adjust based on dataset\n",
    "embed_size = 128\n",
    "hidden_size = 256\n",
    "max_length = 150  # Max sequence length\n",
    "\n",
    "# Encoder\n",
    "encoder_inputs = tf.keras.Input(shape=(None, 3))  # (time steps, features)\n",
    "encoder_lstm = tf.keras.layers.Bidirectional(tf.keras.layers.LSTM(hidden_size, return_sequences=True, return_state=True))\n",
    "encoder_outputs, forward_h, forward_c, backward_h, backward_c = encoder_lstm(encoder_inputs)\n",
    "encoder_state_h = tf.keras.layers.Concatenate()([forward_h, backward_h])\n",
    "encoder_state_c = tf.keras.layers.Concatenate()([forward_c, backward_c])\n",
    "encoder_states = [encoder_state_h, encoder_state_c]\n",
    "\n",
    "# Decoder\n",
    "decoder_inputs = tf.keras.Input(shape=(None,))\n",
    "embedding_layer = tf.keras.layers.Embedding(vocab_size, embed_size)\n",
    "decoder_embedded = embedding_layer(decoder_inputs)\n",
    "\n",
    "# Match the dimensions using a Dense layer to project the encoder outputs to 128 dimensions\n",
    "encoder_projection = tf.keras.layers.Dense(128, activation=\"tanh\")(encoder_outputs)\n",
    "\n",
    "# Attention Mechanism\n",
    "attention = tf.keras.layers.AdditiveAttention()\n",
    "context_vector = attention([decoder_embedded, encoder_projection])\n",
    "\n",
    "# Proper Concatenation Before Passing to LSTM\n",
    "decoder_lstm = tf.keras.layers.LSTM(hidden_size * 2, return_sequences=True, return_state=True)\n",
    "decoder_lstm_input = tf.keras.layers.Concatenate(axis=-1)([decoder_embedded, context_vector])\n",
    "decoder_outputs, _, _ = decoder_lstm(decoder_lstm_input, initial_state=encoder_states)\n",
    "\n",
    "# Output Layer\n",
    "output_layer = tf.keras.layers.Dense(vocab_size, activation='softmax')\n",
    "decoder_outputs = output_layer(decoder_outputs)\n",
    "\n",
    "# Full Model\n",
    "# def ctc_loss_function(y_true, y_pred):\n",
    "#     return tf.keras.backend.ctc_batch_cost(y_true, y_pred, input_length, label_length)\n",
    "    \n",
    "model = tf.keras.Model([encoder_inputs, decoder_inputs], decoder_outputs)\n",
    "model.compile(optimizer='adam', loss='sparse_categorical_crossentropy',metrics=['sparse_categorical_accuracy'])\n"
   ]
  },
  {
   "cell_type": "code",
   "execution_count": 58,
   "metadata": {},
   "outputs": [],
   "source": [
    "from tensorflow.keras.callbacks import ModelCheckpoint\n",
    "\n",
    "BATCH_SIZE = 64\n",
    "EPOCHS = 10\n",
    "\n",
    "# Define checkpoint callback to save the best model based on validation accuracy\n",
    "checkpoint_callback = ModelCheckpoint(\n",
    "    \"best_model.h5\",  # Save the best model to this file\n",
    "    monitor=\"val_accuracy\",  # Monitor validation accuracy\n",
    "    save_best_only=True,  # Save only the best model\n",
    "    mode=\"max\",  # Maximize validation accuracy\n",
    "    verbose=1\n",
    ")"
   ]
  },
  {
   "cell_type": "code",
   "execution_count": 59,
   "metadata": {},
   "outputs": [
    {
     "name": "stdout",
     "output_type": "stream",
     "text": [
      "Epoch 1/10\n",
      "156/156 [==============================] - ETA: 0s - loss: 0.9404 - sparse_categorical_accuracy: 0.7941WARNING:tensorflow:Can save best model only with val_accuracy available, skipping.\n",
      "156/156 [==============================] - 26s 123ms/step - loss: 0.9404 - sparse_categorical_accuracy: 0.7941 - val_loss: 0.6839 - val_sparse_categorical_accuracy: 0.8384\n",
      "Epoch 2/10\n",
      "156/156 [==============================] - ETA: 0s - loss: 0.6162 - sparse_categorical_accuracy: 0.8550WARNING:tensorflow:Can save best model only with val_accuracy available, skipping.\n",
      "156/156 [==============================] - 19s 119ms/step - loss: 0.6162 - sparse_categorical_accuracy: 0.8550 - val_loss: 0.4782 - val_sparse_categorical_accuracy: 0.8882\n",
      "Epoch 3/10\n",
      "156/156 [==============================] - ETA: 0s - loss: 0.4489 - sparse_categorical_accuracy: 0.8933WARNING:tensorflow:Can save best model only with val_accuracy available, skipping.\n",
      "156/156 [==============================] - 19s 121ms/step - loss: 0.4489 - sparse_categorical_accuracy: 0.8933 - val_loss: 0.3890 - val_sparse_categorical_accuracy: 0.9074\n",
      "Epoch 4/10\n",
      "156/156 [==============================] - ETA: 0s - loss: 0.3817 - sparse_categorical_accuracy: 0.9080WARNING:tensorflow:Can save best model only with val_accuracy available, skipping.\n",
      "156/156 [==============================] - 20s 131ms/step - loss: 0.3817 - sparse_categorical_accuracy: 0.9080 - val_loss: 0.3445 - val_sparse_categorical_accuracy: 0.9183\n",
      "Epoch 5/10\n",
      "156/156 [==============================] - ETA: 0s - loss: 0.3448 - sparse_categorical_accuracy: 0.9161WARNING:tensorflow:Can save best model only with val_accuracy available, skipping.\n",
      "156/156 [==============================] - 37s 240ms/step - loss: 0.3448 - sparse_categorical_accuracy: 0.9161 - val_loss: 0.3152 - val_sparse_categorical_accuracy: 0.9243\n",
      "Epoch 6/10\n",
      "156/156 [==============================] - ETA: 0s - loss: 0.3200 - sparse_categorical_accuracy: 0.9215WARNING:tensorflow:Can save best model only with val_accuracy available, skipping.\n",
      "156/156 [==============================] - 34s 218ms/step - loss: 0.3200 - sparse_categorical_accuracy: 0.9215 - val_loss: 0.3033 - val_sparse_categorical_accuracy: 0.9262\n",
      "Epoch 7/10\n",
      "156/156 [==============================] - ETA: 0s - loss: 0.3032 - sparse_categorical_accuracy: 0.9252WARNING:tensorflow:Can save best model only with val_accuracy available, skipping.\n",
      "156/156 [==============================] - 20s 128ms/step - loss: 0.3032 - sparse_categorical_accuracy: 0.9252 - val_loss: 0.2869 - val_sparse_categorical_accuracy: 0.9304\n",
      "Epoch 8/10\n",
      "156/156 [==============================] - ETA: 0s - loss: 0.2892 - sparse_categorical_accuracy: 0.9280WARNING:tensorflow:Can save best model only with val_accuracy available, skipping.\n",
      "156/156 [==============================] - 19s 124ms/step - loss: 0.2892 - sparse_categorical_accuracy: 0.9280 - val_loss: 0.2797 - val_sparse_categorical_accuracy: 0.9319\n",
      "Epoch 9/10\n",
      "156/156 [==============================] - ETA: 0s - loss: 0.2774 - sparse_categorical_accuracy: 0.9303WARNING:tensorflow:Can save best model only with val_accuracy available, skipping.\n",
      "156/156 [==============================] - 19s 123ms/step - loss: 0.2774 - sparse_categorical_accuracy: 0.9303 - val_loss: 0.2704 - val_sparse_categorical_accuracy: 0.9339\n",
      "Epoch 10/10\n",
      "156/156 [==============================] - ETA: 0s - loss: 0.2678 - sparse_categorical_accuracy: 0.9323WARNING:tensorflow:Can save best model only with val_accuracy available, skipping.\n",
      "156/156 [==============================] - 19s 121ms/step - loss: 0.2678 - sparse_categorical_accuracy: 0.9323 - val_loss: 0.2630 - val_sparse_categorical_accuracy: 0.9353\n"
     ]
    }
   ],
   "source": [
    "# Train the model with validation data and checkpointing\n",
    "history0 = model.fit(\n",
    "    x=[train_X, train_decoder_inputs],  # Encoder and decoder inputs\n",
    "    y=train_y,  # Decoder targets\n",
    "    batch_size=BATCH_SIZE,\n",
    "    epochs=EPOCHS,\n",
    "    validation_data=([val_X, val_decoder_inputs], val_y),  # Add validation set\n",
    "    callbacks=[checkpoint_callback]  # Include checkpoint callback\n",
    ")\n",
    "\n",
    "# Save the final trained model\n",
    "model.save(\"final_model.h5\")\n"
   ]
  },
  {
   "cell_type": "code",
   "execution_count": 62,
   "metadata": {},
   "outputs": [
    {
     "data": {
      "image/png": "[encoded data removed]",
      "text/plain": [
       "<Figure size 1200x500 with 2 Axes>"
      ]
     },
     "metadata": {},
     "output_type": "display_data"
    }
   ],
   "source": [
    "import matplotlib.pyplot as plt\n",
    "\n",
    "# Plot accuracy\n",
    "plt.figure(figsize=(12, 5))\n",
    "\n",
    "# Subplot 1: Accuracy\n",
    "plt.subplot(1, 2, 1)\n",
    "plt.plot(history0.history['sparse_categorical_accuracy'], label='Train Accuracy')\n",
    "plt.plot(history0.history['val_sparse_categorical_accuracy'], label='Val Accuracy')\n",
    "plt.xlabel(\"Epochs\")\n",
    "plt.ylabel(\"Accuracy\")\n",
    "plt.legend()\n",
    "plt.title(\"Training and Validation Accuracy\")\n",
    "\n",
    "# Subplot 2: Loss\n",
    "plt.subplot(1, 2, 2)\n",
    "plt.plot(history0.history['loss'], label='Train Loss')\n",
    "plt.plot(history0.history['val_loss'], label='Val Loss')\n",
    "plt.xlabel(\"Epochs\")\n",
    "plt.ylabel(\"Loss\")\n",
    "plt.legend()\n",
    "plt.title(\"Training and Validation Loss\")\n",
    "\n",
    "# Show the plots\n",
    "plt.show()\n"
   ]
  },
  {
   "cell_type": "code",
   "execution_count": 79,
   "metadata": {},
   "outputs": [
    {
     "name": "stdout",
     "output_type": "stream",
     "text": [
      "2/2 [==============================] - 1s 21ms/step - loss: 1.4369 - sparse_categorical_accuracy: 0.7294\n",
      "Train Accuracy: 0.7294\n"
     ]
    }
   ],
   "source": [
    "train_loss, train_acc = model.evaluate([train_X, train_decoder_inputs], train_y)\n",
    "print(f\"Train Accuracy: {train_acc:.4f}\")\n"
   ]
  },
  {
   "cell_type": "code",
   "execution_count": 80,
   "metadata": {},
   "outputs": [
    {
     "name": "stdout",
     "output_type": "stream",
     "text": [
      "2/2 [==============================] - 1s 28ms/step - loss: 2.0674 - sparse_categorical_accuracy: 0.6078\n",
      "Validation Accuracy: 0.6078\n"
     ]
    }
   ],
   "source": [
    "val_loss, val_acc = model.evaluate([val_X, val_decoder_inputs], val_y)\n",
    "print(f\"Validation Accuracy: {val_acc:.4f}\")\n"
   ]
  },
  {
   "cell_type": "code",
   "execution_count": 65,
   "metadata": {},
   "outputs": [
    {
     "name": "stdout",
     "output_type": "stream",
     "text": [
      "312/312 [==============================] - 8s 22ms/step\n",
      "[[5.4792978e-04 7.6873093e-06 6.7236018e-05 ... 3.1008763e-05\n",
      "  2.3881621e-05 2.9378032e-05]\n",
      " [1.9139277e-05 9.5155237e-06 2.1457023e-05 ... 4.8127954e-06\n",
      "  3.3207671e-06 2.0966156e-06]\n",
      " [2.0377896e-05 1.1850453e-04 3.8244302e-06 ... 1.4725570e-07\n",
      "  7.2261862e-08 6.2675525e-08]\n",
      " ...\n",
      " [9.9999213e-01 7.9076310e-09 3.5354134e-08 ... 1.9305195e-11\n",
      "  4.5676830e-12 8.5746878e-12]\n",
      " [9.9999225e-01 7.9170484e-09 3.5099688e-08 ... 1.9227880e-11\n",
      "  4.5552251e-12 8.5610104e-12]\n",
      " [9.9999225e-01 7.9362650e-09 3.4866019e-08 ... 1.9160298e-11\n",
      "  4.5447673e-12 8.5518060e-12]]\n"
     ]
    }
   ],
   "source": [
    "predictions = model.predict([train_X, train_decoder_inputs])\n",
    "predicted_token_ids = np.argmax(predictions, axis=-1)  # Shape: (batch_size, seq_len)\n",
    "\n",
    "# Print an example\n",
    "# for i in range(0,64):\n",
    "print(predictions[1])  # First sample in batch"
   ]
  },
  {
   "cell_type": "code",
   "execution_count": null,
   "metadata": {},
   "outputs": [
    {
     "name": "stdout",
     "output_type": "stream",
     "text": [
      "1/1 [==============================] - 1s 820ms/step\n",
      "1/1 [==============================] - 1s 879ms/step\n",
      "1/1 [==============================] - 0s 44ms/step\n",
      "1/1 [==============================] - 0s 44ms/step\n",
      "1/1 [==============================] - 0s 44ms/step\n",
      "1/1 [==============================] - 0s 46ms/step\n",
      "1/1 [==============================] - 0s 44ms/step\n",
      "1/1 [==============================] - 0s 50ms/step\n",
      "1/1 [==============================] - 0s 44ms/step\n",
      "1/1 [==============================] - 0s 46ms/step\n",
      "1/1 [==============================] - 0s 45ms/step\n",
      "1/1 [==============================] - 0s 43ms/step\n",
      "1/1 [==============================] - 0s 46ms/step\n",
      "1/1 [==============================] - 0s 45ms/step\n",
      "1/1 [==============================] - 0s 46ms/step\n",
      "1/1 [==============================] - 0s 46ms/step\n",
      "1/1 [==============================] - 0s 50ms/step\n",
      "1/1 [==============================] - 0s 52ms/step\n",
      "1/1 [==============================] - 0s 54ms/step\n",
      "1/1 [==============================] - 0s 53ms/step\n",
      "1/1 [==============================] - 0s 60ms/step\n",
      "1/1 [==============================] - 0s 55ms/step\n",
      "1/1 [==============================] - 0s 63ms/step\n",
      "1/1 [==============================] - 0s 56ms/step\n",
      "1/1 [==============================] - 0s 47ms/step\n",
      "1/1 [==============================] - 0s 58ms/step\n",
      "1/1 [==============================] - 0s 54ms/step\n",
      "1/1 [==============================] - 0s 56ms/step\n",
      "1/1 [==============================] - 0s 57ms/step\n",
      "1/1 [==============================] - 0s 61ms/step\n",
      "1/1 [==============================] - 0s 59ms/step\n",
      "1/1 [==============================] - 0s 55ms/step\n",
      "1/1 [==============================] - 0s 58ms/step\n",
      "1/1 [==============================] - 0s 50ms/step\n",
      "1/1 [==============================] - 0s 53ms/step\n",
      "1/1 [==============================] - 0s 57ms/step\n",
      "1/1 [==============================] - 0s 55ms/step\n",
      "1/1 [==============================] - 0s 51ms/step\n",
      "1/1 [==============================] - 0s 55ms/step\n",
      "Predicted Token IDs: [57, 79, 77, 78, 80, 87, 57, 66, 78, 61, 63, 87, 57, 79, 77, 78, 80, 87, 17, 89, 89, 87, 16, 89, 89, 87, 57, 66, 78, 61, 63, 87, 15, 89, 87, 17, 89, 89]\n"
     ]
    }
   ],
   "source": [
    "# def predict_sequence(model, encoder_input, vocab_size, max_length):\n",
    "#     \"\"\"Generates a sequence step by step\"\"\"\n",
    "#     decoder_input = np.zeros((1, 1))  # Start token\n",
    "#     predictions = []\n",
    "\n",
    "#     for _ in range(max_length):\n",
    "#         output = model.predict([encoder_input, decoder_input])\n",
    "#         predicted_id = np.argmax(output[0, -1, :])  # Get most likely token\n",
    "\n",
    "#         if predicted_id == 0:  # Stop if PAD token is predicted\n",
    "#             break\n",
    "\n",
    "#         predictions.append(predicted_id)\n",
    "\n",
    "#         # Update decoder input for next step\n",
    "#         decoder_input = np.hstack([decoder_input, np.array([[predicted_id]])])\n",
    "\n",
    "#     return predictions\n",
    "\n",
    "# # Test on first sample\n",
    "# predicted_ids = predict_sequence(model, train_X[0:1], vocab_size, max_length)\n",
    "# print(\"Predicted Token IDs:\", predicted_ids)\n"
   ]
  },
  {
   "cell_type": "code",
   "execution_count": 67,
   "metadata": {},
   "outputs": [
    {
     "name": "stdout",
     "output_type": "stream",
     "text": [
      "Context Vector Shape: (None, None, 128)\n"
     ]
    }
   ],
   "source": [
    "print(\"Context Vector Shape:\", context_vector.shape)"
   ]
  },
  {
   "cell_type": "code",
   "execution_count": 68,
   "metadata": {},
   "outputs": [
    {
     "data": {
      "text/plain": [
       "(9984, 128)"
      ]
     },
     "execution_count": 68,
     "metadata": {},
     "output_type": "execute_result"
    }
   ],
   "source": [
    "train_y.shape"
   ]
  },
  {
   "cell_type": "code",
   "execution_count": 69,
   "metadata": {},
   "outputs": [
    {
     "data": {
      "text/plain": [
       "(9984, 128, 100)"
      ]
     },
     "execution_count": 69,
     "metadata": {},
     "output_type": "execute_result"
    }
   ],
   "source": [
    "predictions.shape"
   ]
  },
  {
   "cell_type": "code",
   "execution_count": 77,
   "metadata": {},
   "outputs": [
    {
     "data": {
      "text/plain": [
       "array([30, 27, 57, 76, 78, 75, 64, 60, 87, 69, 27, 15, 89, 59, 87, 74, 89,\n",
       "       30, 60, 87, 69, 89,  0,  0,  0,  0,  0,  0,  0,  0,  0,  0,  0,  0,\n",
       "        0,  0,  0,  0,  0,  0,  0,  0,  0,  0,  0,  0,  0,  0,  0,  0,  0,\n",
       "        0,  0,  0,  0,  0,  0,  0,  0,  0,  0,  0,  0,  0,  0,  0,  0,  0,\n",
       "        0,  0,  0,  0,  0,  0,  0,  0,  0,  0,  0,  0,  0,  0,  0,  0,  0,\n",
       "        0,  0,  0,  0,  0,  0,  0,  0,  0,  0,  0,  0,  0,  0,  0,  0,  0,\n",
       "        0,  0,  0,  0,  0,  0,  0,  0,  0,  0,  0,  0,  0,  0,  0,  0,  0,\n",
       "        0,  0,  0,  0,  0,  0,  0,  0,  0])"
      ]
     },
     "execution_count": 77,
     "metadata": {},
     "output_type": "execute_result"
    }
   ],
   "source": [
    "train_y[5]"
   ]
  },
  {
   "cell_type": "code",
   "execution_count": null,
   "metadata": {},
   "outputs": [
    {
     "data": {
      "text/plain": [
       "array([57, 27, 57, 66, 78, 75, 64, 60, 87, 69, 27, 15, 89, 59, 87, 74, 89,\n",
       "       57, 60, 87, 69, 89,  0,  0,  0,  0,  0,  0,  0,  0,  0,  0,  0,  0,\n",
       "        0,  0,  0,  0,  0,  0,  0,  0,  0,  0,  0,  0,  0,  0,  0,  0,  0,\n",
       "        0,  0,  0,  0,  0,  0,  0,  0,  0,  0,  0,  0,  0,  0,  0,  0,  0,\n",
       "        0,  0,  0,  0,  0,  0,  0,  0,  0,  0,  0,  0,  0,  0,  0,  0,  0,\n",
       "        0,  0,  0,  0,  0,  0,  0,  0,  0,  0,  0,  0,  0,  0,  0,  0,  0,\n",
       "        0,  0,  0,  0,  0,  0,  0,  0,  0,  0,  0,  0,  0,  0,  0,  0,  0,\n",
       "        0,  0,  0,  0,  0,  0,  0,  0,  0], dtype=int64)"
      ]
     },
     "execution_count": 78,
     "metadata": {},
     "output_type": "execute_result"
    }
   ],
   "source": [
    "predicted_token_ids[5]"
   ]
  },
  {
   "cell_type": "code",
   "execution_count": 14,
   "metadata": {},
   "outputs": [],
   "source": [
    "def convert_predictions_to_latex(predictions, idx2char):\n",
    "    \"\"\"\n",
    "    Convert a sequence of predicted token IDs into a LaTeX equation.\n",
    "\n",
    "    Args:\n",
    "        predictions (list or np.array): List of predicted token IDs.\n",
    "        idx2char (dict): Dictionary mapping token IDs to LaTeX tokens.\n",
    "\n",
    "    Returns:\n",
    "        str: LaTeX formatted equation.\n",
    "    \"\"\"\n",
    "    latex_tokens = [idx2char.get(token, \"\") for token in predictions if token in idx2char]\n",
    "    latex_expression = \" \".join(latex_tokens)  # Join tokens with space for readability\n",
    "    return f\"\\\\[{latex_expression}\\\\]\"  # Wrap with LaTeX math mode delimiters"
   ]
  },
  {
   "cell_type": "code",
   "execution_count": null,
   "metadata": {},
   "outputs": [
    {
     "data": {
      "text/plain": [
       "'\\\\[\\\\ = \\\\ f r o d _ { i = 1 } ^ { n } \\\\ _ { i } <pad> <pad> <pad> <pad> <pad> <pad> <pad> <pad> <pad> <pad> <pad> <pad> <pad> <pad> <pad> <pad> <pad> <pad> <pad> <pad> <pad> <pad> <pad> <pad> <pad> <pad> <pad> <pad> <pad> <pad> <pad> <pad> <pad> <pad> <pad> <pad> <pad> <pad> <pad> <pad> <pad> <pad> <pad> <pad> <pad> <pad> <pad> <pad> <pad> <pad> <pad> <pad> <pad> <pad> <pad> <pad> <pad> <pad> <pad> <pad> <pad> <pad> <pad> <pad> <pad> <pad> <pad> <pad> <pad> <pad> <pad> <pad> <pad> <pad> <pad> <pad> <pad> <pad> <pad> <pad> <pad> <pad> <pad> <pad> <pad> <pad> <pad> <pad> <pad> <pad> <pad> <pad> <pad> <pad> <pad> <pad> <pad> <pad> <pad> <pad> <pad> <pad> <pad> <pad> <pad> <pad>\\\\]'"
      ]
     },
     "execution_count": 79,
     "metadata": {},
     "output_type": "execute_result"
    }
   ],
   "source": [
    "# p = np.array([79, 13, 12, 51, 79, 14, 13, 20, 81, 81, 51, 79, 13, 12, 81,  9, 49,\n",
    "#        58, 70, 53, 55, 79, 49, 58, 70, 53, 55, 79, 16, 81, 79, 49, 71, 69,\n",
    "#        70, 72, 79, 15, 19, 17, 81, 81, 81, 79, 13, 19, 21, 81,  0,  0,  0,\n",
    "#         0,  0,  0,  0,  0,  0,  0,  0,  0,  0,  0,  0,  0,  0,  0,  0,  0,\n",
    "#         0,  0,  0,  0,  0,  0,  0,  0,  0,  0,  0,  0,  0,  0,  0,  0,  0,\n",
    "#         0,  0,  0,  0,  0,  0,  0,  0,  0,  0,  0,  0,  0,  0,  0])\n",
    "# predicted_token_ids[5]\n",
    "# train_y[5]\n",
    "latex_equation = convert_predictions_to_latex(predicted_token_ids[5], idx2char)\n",
    "latex_equation"
   ]
  },
  {
   "cell_type": "code",
   "execution_count": 80,
   "metadata": {},
   "outputs": [
    {
     "data": {
      "text/plain": [
       "'\\\\[A = \\\\ p r o d _ { i = 1 } ^ { n } A _ { i } <pad> <pad> <pad> <pad> <pad> <pad> <pad> <pad> <pad> <pad> <pad> <pad> <pad> <pad> <pad> <pad> <pad> <pad> <pad> <pad> <pad> <pad> <pad> <pad> <pad> <pad> <pad> <pad> <pad> <pad> <pad> <pad> <pad> <pad> <pad> <pad> <pad> <pad> <pad> <pad> <pad> <pad> <pad> <pad> <pad> <pad> <pad> <pad> <pad> <pad> <pad> <pad> <pad> <pad> <pad> <pad> <pad> <pad> <pad> <pad> <pad> <pad> <pad> <pad> <pad> <pad> <pad> <pad> <pad> <pad> <pad> <pad> <pad> <pad> <pad> <pad> <pad> <pad> <pad> <pad> <pad> <pad> <pad> <pad> <pad> <pad> <pad> <pad> <pad> <pad> <pad> <pad> <pad> <pad> <pad> <pad> <pad> <pad> <pad> <pad> <pad> <pad> <pad> <pad> <pad> <pad>\\\\]'"
      ]
     },
     "execution_count": 80,
     "metadata": {},
     "output_type": "execute_result"
    }
   ],
   "source": [
    "latex_equation = convert_predictions_to_latex(train_y[5], idx2char)\n",
    "latex_equation"
   ]
  },
  {
   "cell_type": "markdown",
   "metadata": {},
   "source": [
    "Now For Second experiment training images 10,000 -> 50,000 (approx)\n",
    "and validation set is same but in next experiment we will used diffrent metrics edit distance metrics"
   ]
  },
  {
   "cell_type": "markdown",
   "metadata": {},
   "source": [
    "# Experiment 2"
   ]
  },
  {
   "cell_type": "code",
   "execution_count": 35,
   "metadata": {},
   "outputs": [],
   "source": [
    "import tensorflow as tf\n",
    "\n",
    "# Configuration\n",
    "vocab_size = 100  # Adjust based on dataset\n",
    "embed_size = 128\n",
    "hidden_size = 256\n",
    "max_length = 150  # Max sequence length\n",
    "\n",
    "# Encoder\n",
    "encoder_inputs = tf.keras.Input(shape=(None, 3))  # (time steps, features)\n",
    "encoder_lstm = tf.keras.layers.Bidirectional(tf.keras.layers.LSTM(hidden_size, return_sequences=True, return_state=True))\n",
    "encoder_outputs, forward_h, forward_c, backward_h, backward_c = encoder_lstm(encoder_inputs)\n",
    "encoder_state_h = tf.keras.layers.Concatenate()([forward_h, backward_h])\n",
    "encoder_state_c = tf.keras.layers.Concatenate()([forward_c, backward_c])\n",
    "encoder_states = [encoder_state_h, encoder_state_c]\n",
    "\n",
    "# Decoder\n",
    "decoder_inputs = tf.keras.Input(shape=(None,))\n",
    "embedding_layer = tf.keras.layers.Embedding(vocab_size, embed_size)\n",
    "decoder_embedded = embedding_layer(decoder_inputs)\n",
    "\n",
    "# Match the dimensions using a Dense layer to project the encoder outputs to 128 dimensions\n",
    "encoder_projection = tf.keras.layers.Dense(128, activation=\"tanh\")(encoder_outputs)\n",
    "\n",
    "# Attention Mechanism\n",
    "attention = tf.keras.layers.AdditiveAttention()\n",
    "context_vector = attention([decoder_embedded, encoder_projection])\n",
    "\n",
    "# Proper Concatenation Before Passing to LSTM\n",
    "decoder_lstm = tf.keras.layers.LSTM(hidden_size * 2, return_sequences=True, return_state=True)\n",
    "decoder_lstm_input = tf.keras.layers.Concatenate(axis=-1)([decoder_embedded, context_vector])\n",
    "decoder_outputs, _, _ = decoder_lstm(decoder_lstm_input, initial_state=encoder_states)\n",
    "\n",
    "# Output Layer\n",
    "output_layer = tf.keras.layers.Dense(vocab_size, activation='softmax')\n",
    "decoder_outputs = output_layer(decoder_outputs)\n",
    "\n",
    "# Full Model\n",
    "# def ctc_loss_function(y_true, y_pred):\n",
    "#     return tf.keras.backend.ctc_batch_cost(y_true, y_pred, input_length, label_length)\n",
    "    \n",
    "model = tf.keras.Model([encoder_inputs, decoder_inputs], decoder_outputs)\n",
    "model.compile(optimizer='adam', loss='sparse_categorical_crossentropy',metrics=['sparse_categorical_accuracy'])"
   ]
  },
  {
   "cell_type": "code",
   "execution_count": 36,
   "metadata": {},
   "outputs": [],
   "source": [
    "from tensorflow.keras.callbacks import ModelCheckpoint\n",
    "\n",
    "BATCH_SIZE = 64\n",
    "EPOCHS = 10\n",
    "\n",
    "# Define checkpoint callback to save the best model based on validation accuracy\n",
    "checkpoint_callback = ModelCheckpoint(\n",
    "    \"exp_2_callback.h5\",  # Save the best model to this file\n",
    "    monitor=\"val_accuracy\",  # Monitor validation accuracy\n",
    "    save_best_only=True,  # Save only the best model\n",
    "    mode=\"max\",  # Maximize validation accuracy\n",
    "    verbose=1\n",
    ")"
   ]
  },
  {
   "cell_type": "code",
   "execution_count": 37,
   "metadata": {},
   "outputs": [
    {
     "name": "stdout",
     "output_type": "stream",
     "text": [
      "Epoch 1/10\n",
      "391/391 [==============================] - ETA: 0s - loss: 0.6567 - sparse_categorical_accuracy: 0.8505WARNING:tensorflow:Can save best model only with val_accuracy available, skipping.\n",
      "391/391 [==============================] - 73s 167ms/step - loss: 0.6567 - sparse_categorical_accuracy: 0.8505 - val_loss: 0.3767 - val_sparse_categorical_accuracy: 0.9100\n",
      "Epoch 2/10\n",
      "391/391 [==============================] - ETA: 0s - loss: 0.3381 - sparse_categorical_accuracy: 0.9180WARNING:tensorflow:Can save best model only with val_accuracy available, skipping.\n",
      "391/391 [==============================] - 64s 163ms/step - loss: 0.3381 - sparse_categorical_accuracy: 0.9180 - val_loss: 0.2915 - val_sparse_categorical_accuracy: 0.9295\n",
      "Epoch 3/10\n",
      "391/391 [==============================] - ETA: 0s - loss: 0.2840 - sparse_categorical_accuracy: 0.9296WARNING:tensorflow:Can save best model only with val_accuracy available, skipping.\n",
      "391/391 [==============================] - 64s 163ms/step - loss: 0.2840 - sparse_categorical_accuracy: 0.9296 - val_loss: 0.2617 - val_sparse_categorical_accuracy: 0.9355\n",
      "Epoch 4/10\n",
      "391/391 [==============================] - ETA: 0s - loss: 0.2573 - sparse_categorical_accuracy: 0.9348WARNING:tensorflow:Can save best model only with val_accuracy available, skipping.\n",
      "391/391 [==============================] - 64s 164ms/step - loss: 0.2573 - sparse_categorical_accuracy: 0.9348 - val_loss: 0.2443 - val_sparse_categorical_accuracy: 0.9388\n",
      "Epoch 5/10\n",
      "391/391 [==============================] - ETA: 0s - loss: 0.2387 - sparse_categorical_accuracy: 0.9385WARNING:tensorflow:Can save best model only with val_accuracy available, skipping.\n",
      "391/391 [==============================] - 64s 164ms/step - loss: 0.2387 - sparse_categorical_accuracy: 0.9385 - val_loss: 0.2326 - val_sparse_categorical_accuracy: 0.9412\n",
      "Epoch 6/10\n",
      "391/391 [==============================] - ETA: 0s - loss: 0.2226 - sparse_categorical_accuracy: 0.9419WARNING:tensorflow:Can save best model only with val_accuracy available, skipping.\n",
      "391/391 [==============================] - 63s 162ms/step - loss: 0.2226 - sparse_categorical_accuracy: 0.9419 - val_loss: 0.2216 - val_sparse_categorical_accuracy: 0.9434\n",
      "Epoch 7/10\n",
      "391/391 [==============================] - ETA: 0s - loss: 0.2083 - sparse_categorical_accuracy: 0.9451WARNING:tensorflow:Can save best model only with val_accuracy available, skipping.\n",
      "391/391 [==============================] - 64s 163ms/step - loss: 0.2083 - sparse_categorical_accuracy: 0.9451 - val_loss: 0.2133 - val_sparse_categorical_accuracy: 0.9455\n",
      "Epoch 8/10\n",
      "391/391 [==============================] - ETA: 0s - loss: 0.1950 - sparse_categorical_accuracy: 0.9483WARNING:tensorflow:Can save best model only with val_accuracy available, skipping.\n",
      "391/391 [==============================] - 64s 163ms/step - loss: 0.1950 - sparse_categorical_accuracy: 0.9483 - val_loss: 0.2047 - val_sparse_categorical_accuracy: 0.9477\n",
      "Epoch 9/10\n",
      "391/391 [==============================] - ETA: 0s - loss: 0.1823 - sparse_categorical_accuracy: 0.9515WARNING:tensorflow:Can save best model only with val_accuracy available, skipping.\n",
      "391/391 [==============================] - 64s 163ms/step - loss: 0.1823 - sparse_categorical_accuracy: 0.9515 - val_loss: 0.1987 - val_sparse_categorical_accuracy: 0.9490\n",
      "Epoch 10/10\n",
      "391/391 [==============================] - ETA: 0s - loss: 0.1702 - sparse_categorical_accuracy: 0.9548WARNING:tensorflow:Can save best model only with val_accuracy available, skipping.\n",
      "391/391 [==============================] - 64s 163ms/step - loss: 0.1702 - sparse_categorical_accuracy: 0.9548 - val_loss: 0.1964 - val_sparse_categorical_accuracy: 0.9498\n"
     ]
    }
   ],
   "source": [
    "BATCH_SIZE = 128\n",
    "# Train the model with validation data and checkpointing\n",
    "history0 = model.fit(\n",
    "    x=[train_X, train_decoder_inputs],  # Encoder and decoder inputs\n",
    "    y=train_y,  # Decoder targets\n",
    "    batch_size=BATCH_SIZE,\n",
    "    epochs=EPOCHS,\n",
    "    validation_data=([val_X, val_decoder_inputs], val_y),  # Add validation set\n",
    "    callbacks=[checkpoint_callback]  # Include checkpoint callback\n",
    ")\n",
    "\n",
    "# Save the final trained model\n",
    "model.save(\"exp2.h5\")\n"
   ]
  },
  {
   "cell_type": "code",
   "execution_count": 38,
   "metadata": {},
   "outputs": [
    {
     "data": {
      "image/png": "[encoded data removed]",
      "text/plain": [
       "<Figure size 1200x500 with 2 Axes>"
      ]
     },
     "metadata": {},
     "output_type": "display_data"
    }
   ],
   "source": [
    "import matplotlib.pyplot as plt\n",
    "\n",
    "# Plot accuracy\n",
    "plt.figure(figsize=(12, 5))\n",
    "\n",
    "# Subplot 1: Accuracy\n",
    "plt.subplot(1, 2, 1)\n",
    "plt.plot(history0.history['sparse_categorical_accuracy'], label='Train Accuracy')\n",
    "plt.plot(history0.history['val_sparse_categorical_accuracy'], label='Val Accuracy')\n",
    "plt.xlabel(\"Epochs\")\n",
    "plt.ylabel(\"Accuracy\")\n",
    "plt.legend()\n",
    "plt.title(\"Training and Validation Accuracy\")\n",
    "\n",
    "# Subplot 2: Loss\n",
    "plt.subplot(1, 2, 2)\n",
    "plt.plot(history0.history['loss'], label='Train Loss')\n",
    "plt.plot(history0.history['val_loss'], label='Val Loss')\n",
    "plt.xlabel(\"Epochs\")\n",
    "plt.ylabel(\"Loss\")\n",
    "plt.legend()\n",
    "plt.title(\"Training and Validation Loss\")\n",
    "\n",
    "# Show the plots\n",
    "plt.show()\n"
   ]
  },
  {
   "cell_type": "code",
   "execution_count": 41,
   "metadata": {},
   "outputs": [
    {
     "data": {
      "text/plain": [
       "3704"
      ]
     },
     "execution_count": 41,
     "metadata": {},
     "output_type": "execute_result"
    }
   ],
   "source": [
    "import tensorflow.keras.backend as K\n",
    "import gc\n",
    "\n",
    "K.clear_session()\n",
    "gc.collect()\n"
   ]
  },
  {
   "cell_type": "code",
   "execution_count": 42,
   "metadata": {},
   "outputs": [
    {
     "name": "stdout",
     "output_type": "stream",
     "text": [
      "312/312 [==============================] - 7s 22ms/step\n",
      "[[1.8703662e-05 7.4754837e-08 5.6773240e-07 ... 4.0629704e-08\n",
      "  2.5281503e-08 1.4071491e-08]\n",
      " [3.2480443e-09 9.4992136e-10 3.2772611e-09 ... 1.4495209e-09\n",
      "  6.8490896e-10 1.8047460e-09]\n",
      " [1.0804875e-07 2.5478345e-08 9.0764258e-09 ... 7.0963129e-09\n",
      "  6.8742048e-09 1.1527002e-08]\n",
      " ...\n",
      " [9.9999952e-01 1.6820456e-09 8.6073886e-09 ... 3.7830307e-12\n",
      "  1.7504464e-12 4.8180336e-12]\n",
      " [9.9999952e-01 1.6637498e-09 8.6013978e-09 ... 3.7535339e-12\n",
      "  1.7406480e-12 4.7817614e-12]\n",
      " [9.9999952e-01 1.6495213e-09 8.6016110e-09 ... 3.7287022e-12\n",
      "  1.7307561e-12 4.7496018e-12]]\n"
     ]
    }
   ],
   "source": [
    "predictions = model.predict([val_X, val_decoder_inputs])\n",
    "predicted_token_ids = np.argmax(predictions, axis=-1)  # Shape: (batch_size, seq_len)\n",
    "\n",
    "# Print an example\n",
    "# for i in range(0,64):\n",
    "print(predictions[1])  # First sample in batch"
   ]
  },
  {
   "cell_type": "code",
   "execution_count": 43,
   "metadata": {},
   "outputs": [
    {
     "name": "stdout",
     "output_type": "stream",
     "text": [
      "[57 66 78 61 63 87 15 89 87 57 79 77 78 80 87 57 59 89 87 14 89 89  0  0\n",
      "  0  0  0  0  0  0  0  0  0  0  0  0  0  0  0  0  0  0  0  0  0  0  0  0\n",
      "  0  0  0  0  0  0  0  0  0  0  0  0  0  0  0  0  0  0  0  0  0  0  0  0\n",
      "  0  0  0  0  0  0  0  0  0  0  0  0  0  0  0  0  0  0  0  0  0  0  0  0\n",
      "  0  0  0  0  0  0  0  0  0  0  0  0  0  0  0  0  0  0  0  0  0  0  0  0\n",
      "  0  0  0  0  0  0  0  0]\n",
      "[57 66 78 61 63 87 15 89 87 57 79 77 78 80 87 64 89 60 87 81 89 89  0  0\n",
      "  0  0  0  0  0  0  0  0  0  0  0  0  0  0  0  0  0  0  0  0  0  0  0  0\n",
      "  0  0  0  0  0  0  0  0  0  0  0  0  0  0  0  0  0  0  0  0  0  0  0  0\n",
      "  0  0  0  0  0  0  0  0  0  0  0  0  0  0  0  0  0  0  0  0  0  0  0  0\n",
      "  0  0  0  0  0  0  0  0  0  0  0  0  0  0  0  0  0  0  0  0  0  0  0  0\n",
      "  0  0  0  0  0  0  0  0]\n"
     ]
    }
   ],
   "source": [
    "print(predicted_token_ids[5])\n",
    "print(val_y[5])\n"
   ]
  },
  {
   "cell_type": "code",
   "execution_count": 44,
   "metadata": {},
   "outputs": [
    {
     "data": {
      "text/plain": [
       "'\\\\[\\\\ f r a c { 1 } { \\\\ s q r t { \\\\ ^ } { 0 } } <pad> <pad> <pad> <pad> <pad> <pad> <pad> <pad> <pad> <pad> <pad> <pad> <pad> <pad> <pad> <pad> <pad> <pad> <pad> <pad> <pad> <pad> <pad> <pad> <pad> <pad> <pad> <pad> <pad> <pad> <pad> <pad> <pad> <pad> <pad> <pad> <pad> <pad> <pad> <pad> <pad> <pad> <pad> <pad> <pad> <pad> <pad> <pad> <pad> <pad> <pad> <pad> <pad> <pad> <pad> <pad> <pad> <pad> <pad> <pad> <pad> <pad> <pad> <pad> <pad> <pad> <pad> <pad> <pad> <pad> <pad> <pad> <pad> <pad> <pad> <pad> <pad> <pad> <pad> <pad> <pad> <pad> <pad> <pad> <pad> <pad> <pad> <pad> <pad> <pad> <pad> <pad> <pad> <pad> <pad> <pad> <pad> <pad> <pad> <pad> <pad> <pad> <pad> <pad> <pad> <pad>\\\\]'"
      ]
     },
     "execution_count": 44,
     "metadata": {},
     "output_type": "execute_result"
    }
   ],
   "source": [
    "latex_equation = convert_predictions_to_latex(predicted_token_ids[5], idx2char)\n",
    "latex_equation"
   ]
  },
  {
   "cell_type": "code",
   "execution_count": 46,
   "metadata": {},
   "outputs": [
    {
     "data": {
      "text/plain": [
       "'\\\\[\\\\ f r a c { 1 } { \\\\ s q r t { d } _ { u } } <pad> <pad> <pad> <pad> <pad> <pad> <pad> <pad> <pad> <pad> <pad> <pad> <pad> <pad> <pad> <pad> <pad> <pad> <pad> <pad> <pad> <pad> <pad> <pad> <pad> <pad> <pad> <pad> <pad> <pad> <pad> <pad> <pad> <pad> <pad> <pad> <pad> <pad> <pad> <pad> <pad> <pad> <pad> <pad> <pad> <pad> <pad> <pad> <pad> <pad> <pad> <pad> <pad> <pad> <pad> <pad> <pad> <pad> <pad> <pad> <pad> <pad> <pad> <pad> <pad> <pad> <pad> <pad> <pad> <pad> <pad> <pad> <pad> <pad> <pad> <pad> <pad> <pad> <pad> <pad> <pad> <pad> <pad> <pad> <pad> <pad> <pad> <pad> <pad> <pad> <pad> <pad> <pad> <pad> <pad> <pad> <pad> <pad> <pad> <pad> <pad> <pad> <pad> <pad> <pad> <pad>\\\\]'"
      ]
     },
     "execution_count": 46,
     "metadata": {},
     "output_type": "execute_result"
    }
   ],
   "source": [
    "latex_equation = convert_predictions_to_latex(val_y[5], idx2char)\n",
    "latex_equation"
   ]
  },
  {
   "cell_type": "code",
   "execution_count": null,
   "metadata": {},
   "outputs": [],
   "source": [
    "# import tensorflow as tf\n",
    "# import Levenshtein\n",
    "\n",
    "# # Custom Edit Distance Metric\n",
    "# def edit_distance_metric(y_true, y_pred):\n",
    "#     def compute_distance(y_true_np, y_pred_np):\n",
    "#         y_true_decoded = \"\".join([chr(c) for c in y_true_np if c > 0])  # Convert to string\n",
    "#         y_pred_decoded = \"\".join([chr(c) for c in y_pred_np if c > 0])  \n",
    "        \n",
    "#         dist = Levenshtein.distance(y_true_decoded, y_pred_decoded)\n",
    "#         max_len = max(len(y_true_decoded), len(y_pred_decoded))\n",
    "#         return dist / max_len if max_len > 0 else 0  # Normalize\n",
    "\n",
    "#     return tf.py_function(func=compute_distance, inp=[y_true, y_pred], Tout=tf.float32)\n",
    "\n",
    "# # Compile model with the custom metric\n",
    "# model.compile(optimizer=\"adam\", loss=\"categorical_crossentropy\", metrics=[edit_distance_metric])\n"
   ]
  }
 ],
 "metadata": {
  "kernelspec": {
   "display_name": "eduboost",
   "language": "python",
   "name": "python3"
  },
  "language_info": {
   "codemirror_mode": {
    "name": "ipython",
    "version": 3
   },
   "file_extension": ".py",
   "mimetype": "text/x-python",
   "name": "python",
   "nbconvert_exporter": "python",
   "pygments_lexer": "ipython3",
   "version": "3.10.16"
  }
 },
 "nbformat": 4,
 "nbformat_minor": 2
}
